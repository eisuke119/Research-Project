{
 "cells": [
  {
   "cell_type": "code",
   "execution_count": 1,
   "metadata": {},
   "outputs": [],
   "source": [
    "import pandas as pd\n",
    "import requests\n",
    "import math\n",
    "import matplotlib.pyplot as plt\n",
    "import string"
   ]
  },
  {
   "cell_type": "code",
   "execution_count": 2,
   "metadata": {},
   "outputs": [],
   "source": [
    "MAX_RESULTS_PER_PAGE = 200\n",
    "BASE_URL = 'https://api.openalex.org/works?search='\n",
    "keywords = '(\"DNA\" AND \"foundation model\") OR (\"DNABERT\")'"
   ]
  },
  {
   "cell_type": "code",
   "execution_count": 3,
   "metadata": {},
   "outputs": [],
   "source": [
    "def get_request(url: str):\n",
    "    \"\"\"Returns metadata and results of a OpenAlex API query\n",
    "\n",
    "    Args:\n",
    "        url (str): query for OpenAlex API\n",
    "\n",
    "    Returns:\n",
    "        dict: Combined metadata from all pages\n",
    "        list: Combined results from all pages\n",
    "    \"\"\"\n",
    "    all_results = []\n",
    "    current_page = 1\n",
    "    total_pages = None\n",
    "\n",
    "    while True:\n",
    "        paginated_url = f\"{url}&page={current_page}\"\n",
    "        \n",
    "        response = requests.get(paginated_url)\n",
    "        \n",
    "        if response.status_code == 200:\n",
    "            data = response.json()\n",
    "            if current_page == 1:\n",
    "                meta = data['meta']\n",
    "                total_pages = math.ceil(meta['count'] / MAX_RESULTS_PER_PAGE)\n",
    "            \n",
    "            results = data['results']    \n",
    "            all_results.extend(results) \n",
    "                \n",
    "            if current_page >= total_pages:\n",
    "                break\n",
    "            \n",
    "            current_page += 1\n",
    "            \n",
    "        else:\n",
    "            print(f\"Error: {response.status_code}\")\n",
    "            break\n",
    "    \n",
    "    return meta, all_results"
   ]
  },
  {
   "cell_type": "code",
   "execution_count": 4,
   "metadata": {},
   "outputs": [],
   "source": [
    "query = f'{BASE_URL}{keywords}&per-page={MAX_RESULTS_PER_PAGE}'"
   ]
  },
  {
   "cell_type": "code",
   "execution_count": 5,
   "metadata": {},
   "outputs": [],
   "source": [
    "meta, reports = get_request(query)"
   ]
  },
  {
   "cell_type": "code",
   "execution_count": null,
   "metadata": {},
   "outputs": [],
   "source": [
    "meta"
   ]
  },
  {
   "cell_type": "code",
   "execution_count": 7,
   "metadata": {},
   "outputs": [],
   "source": [
    "columns_to_keep = ['doi','title','relevance_score', 'publication_year', 'publication_date', 'cited_by_count']\n",
    "result_df = pd.json_normalize(reports)[columns_to_keep]"
   ]
  },
  {
   "cell_type": "code",
   "execution_count": 8,
   "metadata": {},
   "outputs": [],
   "source": [
    "result_df = result_df[~(result_df['title'].isna())]\n",
    "result_df['title'] = result_df['title'].str.lower().str.replace(f'[{string.punctuation}]', '', regex=True)"
   ]
  },
  {
   "cell_type": "code",
   "execution_count": null,
   "metadata": {},
   "outputs": [],
   "source": [
    "n_original = meta['count']\n",
    "print(f\"n original: {n_original}\")\n",
    "result_df = result_df[~result_df.duplicated(subset=['title'])]\n",
    "print(f\"n after removing duplicates title: {len(result_df)}\")\n",
    "\n",
    "result_df = result_df[result_df['publication_year']>=2017]\n",
    "print(f\"n after filtering >= 2017: {len(result_df)}\")"
   ]
  },
  {
   "cell_type": "code",
   "execution_count": 75,
   "metadata": {},
   "outputs": [],
   "source": [
    "result_df.to_csv('openalex_initialsearch.csv', index=False)"
   ]
  },
  {
   "cell_type": "markdown",
   "metadata": {},
   "source": [
    "## Summary Stats"
   ]
  },
  {
   "cell_type": "code",
   "execution_count": null,
   "metadata": {},
   "outputs": [],
   "source": [
    "result_df['publication_year'].hist(bins=50, color='skyblue', edgecolor='black')\n",
    "\n",
    "# Set titles and labels\n",
    "plt.title('Publication Year Distribution')\n",
    "plt.xlabel('Publication Year')\n",
    "plt.ylabel('Frequency')\n",
    "\n",
    "# Adjust the number of ticks on the x-axis\n",
    "plt.xticks(ticks=range(result_df['publication_year'].min(), result_df['publication_year'].max() + 1, 1), rotation=45)\n",
    "plt.xlim(2017,2024)\n",
    "\n",
    "# Show the plot\n",
    "plt.show()"
   ]
  },
  {
   "cell_type": "code",
   "execution_count": null,
   "metadata": {},
   "outputs": [],
   "source": [
    "result_df['cited_by_count'].hist(bins=50, color='skyblue', edgecolor='black')\n",
    "\n",
    "# Set titles and labels\n",
    "plt.title('Citations')\n",
    "plt.xlabel('Publication Year')\n",
    "plt.ylabel('Frequency')\n",
    "\n",
    "# Show the plot\n",
    "plt.show()"
   ]
  }
 ],
 "metadata": {
  "kernelspec": {
   "display_name": "Python 3",
   "language": "python",
   "name": "python3"
  },
  "language_info": {
   "codemirror_mode": {
    "name": "ipython",
    "version": 3
   },
   "file_extension": ".py",
   "mimetype": "text/x-python",
   "name": "python",
   "nbconvert_exporter": "python",
   "pygments_lexer": "ipython3",
   "version": "3.11.5"
  }
 },
 "nbformat": 4,
 "nbformat_minor": 2
}
