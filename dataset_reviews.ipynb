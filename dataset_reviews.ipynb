{
 "cells": [
  {
   "cell_type": "markdown",
   "metadata": {},
   "source": [
    "### Own attempt with requests"
   ]
  },
  {
   "cell_type": "code",
   "execution_count": 428,
   "metadata": {},
   "outputs": [],
   "source": [
    "from jsonapi_client import Session\n",
    "import pandas as pd\n",
    "from time import sleep"
   ]
  },
  {
   "cell_type": "code",
   "execution_count": 429,
   "metadata": {},
   "outputs": [],
   "source": [
    "base_url = \"https://www.ebi.ac.uk/metagenomics/api/v1/\"\n",
    "lineage_gut_suffix = \"studies?lineage=root:Host-associated:Human:Digestive system\"\n",
    "lineage_vagina_suffix = \"studies?lineage=root:Host-associated:Human:Reproductive system:Vagina\""
   ]
  },
  {
   "cell_type": "code",
   "execution_count": 430,
   "metadata": {},
   "outputs": [],
   "source": [
    "gut_csv_path = \"gut_biome_studies.csv\"\n",
    "vaginal_csv_path = \"vaginal_biome_studies.csv\""
   ]
  },
  {
   "cell_type": "code",
   "execution_count": 446,
   "metadata": {},
   "outputs": [],
   "source": [
    "def get_microbiome_studies(base_url:str, gut_url_suffix:str, vaginal_url_suffix:str) -> tuple[list, list]:\n",
    "    with Session(base_url) as mgnify:\n",
    "        \n",
    "        resources = map(lambda r: r.json, mgnify.iterate(gut_url_suffix))\n",
    "        gut_biome_studies = [i for i in resources]\n",
    "\n",
    "        resources = map(lambda r: r.json, mgnify.iterate(vaginal_url_suffix))\n",
    "        vaginal_biome_studies = [i for i in resources]\n",
    "\n",
    "    return gut_biome_studies, vaginal_biome_studies\n",
    "\n",
    "def response_to_csv(biome_studies:list,csv_path:str) -> None:\n",
    "    studies_attributes = [i[\"attributes\"] for i in biome_studies]\n",
    "    \n",
    "    df = pd.DataFrame(studies_attributes)\n",
    "    df.drop(columns=['study-abstract'],inplace=True)\n",
    "    return df.to_csv(csv_path)\n",
    "\n",
    "def get_dois(accessions:list, base_url:str) -> list:\n",
    "    with Session(base_url) as mgnify:\n",
    "        doi_list = []\n",
    "        for accession_id in accessions[0:1]:\n",
    "            print(accession_id, end=\" \")\n",
    "            pub_url = f\"studies/{accession_id}/samples\" \n",
    "            resp = map(lambda r: r.json, mgnify.iterate(pub_url))\n",
    "            # doi = [i[\"attributes\"][\"doi\"] for i in resp]\n",
    "            # try:\n",
    "            #     doi_list.append(doi[0])\n",
    "            # except IndexError:\n",
    "            #     doi_list.append(None)\n",
    "    return [i for i in resp] #doi_list\n",
    "\n",
    "def add_dois_to_csv(path:str, base_url:str) -> None:\n",
    "    df = pd.read_csv(path)\n",
    "    accessions = df[\"accession\"].tolist()\n",
    "    doi_list = get_dois(accessions, base_url)\n",
    "    df[\"doi\"] = doi_list\n",
    "    return df.to_csv(path)"
   ]
  },
  {
   "cell_type": "code",
   "execution_count": 447,
   "metadata": {},
   "outputs": [],
   "source": [
    "# gut_biome_studies, vaginal_biome_studies = get_microbiome_studies(base_url, lineage_gut_suffix, lineage_vagina_suffix)"
   ]
  },
  {
   "cell_type": "code",
   "execution_count": 448,
   "metadata": {},
   "outputs": [],
   "source": [
    "# response_to_csv(gut_biome_studies, gut_csv_path)\n",
    "# response_to_csv(vaginal_biome_studies, vaginal_csv_path)"
   ]
  },
  {
   "cell_type": "code",
   "execution_count": 449,
   "metadata": {},
   "outputs": [],
   "source": [
    "# print(\"Adding dois to vaginal microbiome csv\")\n",
    "# add_dois_to_csv(vaginal_csv_path, base_url) \n",
    "# print(\"Adding dois to gut microbiome csv\")\n",
    "# add_dois_to_csv(gut_csv_path, base_url)"
   ]
  },
  {
   "cell_type": "code",
   "execution_count": null,
   "metadata": {},
   "outputs": [],
   "source": [
    "df = pd.read_csv(vaginal_csv_path)\n",
    "accessions = df[\"accession\"].tolist()\n",
    "samples_list = get_dois(accessions, base_url)"
   ]
  },
  {
   "cell_type": "code",
   "execution_count": null,
   "metadata": {},
   "outputs": [],
   "source": [
    "samples_list[0].keys"
   ]
  },
  {
   "cell_type": "code",
   "execution_count": 423,
   "metadata": {},
   "outputs": [],
   "source": [
    "df_gut = pd.read_csv(gut_csv_path)\n",
    "gut_studies = set(df_gut[\"doi\"].to_list())\n",
    "\n",
    "df_vag = pd.read_csv(vaginal_csv_path)\n",
    "vaginal_studies = set(df_vag[\"doi\"].to_list())\n"
   ]
  },
  {
   "cell_type": "code",
   "execution_count": null,
   "metadata": {},
   "outputs": [],
   "source": [
    "print(len(gut_studies), len(vaginal_studies))\n"
   ]
  },
  {
   "cell_type": "code",
   "execution_count": null,
   "metadata": {},
   "outputs": [],
   "source": [
    "gut_studies.intersection(vaginal_studies)"
   ]
  },
  {
   "cell_type": "code",
   "execution_count": null,
   "metadata": {},
   "outputs": [],
   "source": []
  }
 ],
 "metadata": {
  "kernelspec": {
   "display_name": "Python 3",
   "language": "python",
   "name": "python3"
  },
  "language_info": {
   "codemirror_mode": {
    "name": "ipython",
    "version": 3
   },
   "file_extension": ".py",
   "mimetype": "text/x-python",
   "name": "python",
   "nbconvert_exporter": "python",
   "pygments_lexer": "ipython3",
   "version": "3.10.4"
  }
 },
 "nbformat": 4,
 "nbformat_minor": 2
}
