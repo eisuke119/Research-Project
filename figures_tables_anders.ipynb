{
 "cells": [
  {
   "cell_type": "code",
   "execution_count": 1,
   "metadata": {},
   "outputs": [],
   "source": [
    "import matplotlib.pyplot as plt\n",
    "import pandas as pd"
   ]
  },
  {
   "cell_type": "markdown",
   "metadata": {},
   "source": [
    "### Genus contig count table"
   ]
  },
  {
   "cell_type": "code",
   "execution_count": 96,
   "metadata": {},
   "outputs": [],
   "source": [
    "def convert_to_latex(input_data):\n",
    "    backslash = \"\\\\\"\n",
    "    latex_output = []\n",
    "    for genus, genome, count in input_data:\n",
    "        genome_latex = genome.replace('_', '\\\\_')\n",
    "        latex_output.append(f\"{genus} & {genome_latex} & {count} {backslash*2}\")  \n",
    "    return \"\\n\".join(latex_output)"
   ]
  },
  {
   "cell_type": "code",
   "execution_count": null,
   "metadata": {},
   "outputs": [],
   "source": [
    "species_labelled_contigs = pd.read_csv('data/species_labelled_contigs.csv')\n",
    "genuses = pd.read_csv('data/metahit/taxonomy.tsv', sep='\\t', header=None)[2]"
   ]
  },
  {
   "cell_type": "code",
   "execution_count": 97,
   "metadata": {},
   "outputs": [],
   "source": [
    "genus_contig_count = [\n",
    "    (genus, species, count)  # (genus, species, count)\n",
    "    for genus, (species, count) in zip(genuses, species_labelled_contigs.value_counts('species').sort_index().items())\n",
    "]"
   ]
  },
  {
   "cell_type": "code",
   "execution_count": 98,
   "metadata": {},
   "outputs": [],
   "source": [
    "genus_contig_count = convert_to_latex(genus_contig_count)"
   ]
  },
  {
   "cell_type": "code",
   "execution_count": 100,
   "metadata": {},
   "outputs": [],
   "source": [
    "with open(\"results/other_results/genus_contig_count.txt\", \"w\") as file:\n",
    "    file.write(genus_contig_count)"
   ]
  }
 ],
 "metadata": {
  "kernelspec": {
   "display_name": "Python 3",
   "language": "python",
   "name": "python3"
  },
  "language_info": {
   "codemirror_mode": {
    "name": "ipython",
    "version": 3
   },
   "file_extension": ".py",
   "mimetype": "text/x-python",
   "name": "python",
   "nbconvert_exporter": "python",
   "pygments_lexer": "ipython3",
   "version": "3.11.5"
  }
 },
 "nbformat": 4,
 "nbformat_minor": 2
}
