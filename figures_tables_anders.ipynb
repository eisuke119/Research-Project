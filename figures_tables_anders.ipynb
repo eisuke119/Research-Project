{
 "cells": [
  {
   "cell_type": "code",
   "execution_count": 2,
   "metadata": {},
   "outputs": [],
   "source": [
    "import matplotlib.pyplot as plt\n",
    "import pandas as pd"
   ]
  },
  {
   "cell_type": "code",
   "execution_count": 20,
   "metadata": {},
   "outputs": [],
   "source": [
    "LARGEST_GENUS = ['Bacteroides', 'Clostridium', 'Eubacterium', 'Streptococcus', 'Bifidobacterium', 'Escherichia', 'Lachnospiraceae', 'Ruminococcus'\n",
    "]"
   ]
  },
  {
   "cell_type": "code",
   "execution_count": null,
   "metadata": {},
   "outputs": [],
   "source": [
    "species_labelled_contigs = pd.read_csv('data/species_labelled_contigs.csv')\n",
    "taxonomy = pd.read_csv('data/metahit/taxonomy.tsv', sep='\\t', header=None)"
   ]
  },
  {
   "cell_type": "markdown",
   "metadata": {},
   "source": [
    "### Genus contig count table"
   ]
  },
  {
   "cell_type": "code",
   "execution_count": 6,
   "metadata": {},
   "outputs": [],
   "source": [
    "def convert_to_latex(input_data):\n",
    "    backslash = \"\\\\\"\n",
    "    latex_output = []\n",
    "    previous_genus = input_data[0][0]\n",
    "    for genus, genome, count in input_data:\n",
    "        if genus != previous_genus:\n",
    "            latex_output.append('\\hline')\n",
    "        genome_latex = genome.replace('_', '\\\\_')\n",
    "        line = f\"{genus} & {genome_latex} & {count} {backslash*2}\"\n",
    "        latex_output.append(line)  \n",
    "        \n",
    "        previous_genus = genus\n",
    "    return \"\\n\".join(latex_output)"
   ]
  },
  {
   "cell_type": "code",
   "execution_count": 13,
   "metadata": {},
   "outputs": [],
   "source": [
    "taxonomy_dict = dict(zip(taxonomy.iloc[:, 0], taxonomy.iloc[:, -1]))\n",
    "genome_contig_count = species_labelled_contigs.value_counts('species').sort_index().items()\n",
    "\n",
    "genus_contig_count = [\n",
    "    (taxonomy_dict[genome], genome, count) \n",
    "    for (genome, count) in genome_contig_count\n",
    "]\n",
    "\n",
    "genus_contig_count = convert_to_latex(genus_contig_count)"
   ]
  },
  {
   "cell_type": "code",
   "execution_count": null,
   "metadata": {},
   "outputs": [],
   "source": [
    "with open(\"results/other_results/genus_contig_count.txt\", \"w\") as file:\n",
    "    file.write(genus_contig_count)"
   ]
  },
  {
   "cell_type": "markdown",
   "metadata": {},
   "source": [
    "### Genus count table"
   ]
  },
  {
   "cell_type": "code",
   "execution_count": 23,
   "metadata": {},
   "outputs": [],
   "source": [
    "genus_count = taxonomy[2].value_counts().sort_index().items()\n",
    "\n",
    "genus_count = [\n",
    "    (genome, count) \n",
    "    for (genome, count) in genus_count\n",
    "]"
   ]
  },
  {
   "cell_type": "code",
   "execution_count": 26,
   "metadata": {},
   "outputs": [
    {
     "name": "stdout",
     "output_type": "stream",
     "text": [
      "Other: 124\n",
      "Bacteroides: 74\n",
      "Clostridium: 25\n",
      "Eubacterium: 14\n",
      "Streptococcus: 13\n",
      "Bifidobacterium: 11\n",
      "Ruminococcus: 11\n",
      "Escherichia: 10\n",
      "Lachnospiraceae: 9\n"
     ]
    }
   ],
   "source": [
    "collapsed_data = {'Other': 0}\n",
    "\n",
    "for key, value in genus_count:\n",
    "    if key in LARGEST_GENUS:\n",
    "        collapsed_data[key] = value\n",
    "    else:\n",
    "        collapsed_data['Other'] += value\n",
    "\n",
    "sorted_data = dict(sorted(collapsed_data.items(), key=lambda x: x[1], reverse=True))\n",
    "for key, value in sorted_data.items():\n",
    "    print(f\"{key}: {value}\")"
   ]
  }
 ],
 "metadata": {
  "kernelspec": {
   "display_name": "Python 3",
   "language": "python",
   "name": "python3"
  },
  "language_info": {
   "codemirror_mode": {
    "name": "ipython",
    "version": 3
   },
   "file_extension": ".py",
   "mimetype": "text/x-python",
   "name": "python",
   "nbconvert_exporter": "python",
   "pygments_lexer": "ipython3",
   "version": "3.11.5"
  }
 },
 "nbformat": 4,
 "nbformat_minor": 2
}
